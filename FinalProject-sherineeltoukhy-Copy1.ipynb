{
 "cells": [
  {
   "cell_type": "markdown",
   "metadata": {},
   "source": [
    "# An analysis of smoking cessation on Twitter"
   ]
  },
  {
   "cell_type": "markdown",
   "metadata": {},
   "source": [
    "## Introduction"
   ]
  },
  {
   "cell_type": "markdown",
   "metadata": {},
   "source": [
    "Cigarette smoking causes one-third of all cancer deaths in the United States. It is associated with adverse health outcomes such as second primary cancers among cancer patients and survivors. Smoking also causes non-cancer diseases such as heart disease, chronic obstructive pulmonary disease, and rheumatoid arthritis. Smokers are at an increased risk of developing diseases such as diabetes and have worse symptoms and outcomes associated with health conditions such as asthma and obesity than nonsmokers. Involuntary exposure to smoke is associated with increased risk of tobacco-related diseases such as stroke and lung cancer among nonsmokers. Overall, smoking causes 480000 premature deaths, 50000 secondhand smoking-related deaths, and 12.7 million medical conditions annually. Economic costs because of lost productivity are at $151 billion due to premature death and $5.6 billion due to secondhand smoker. Total annual economic loss for 2009-12 was estimated at $289-332.5 billion.\n",
    "\n",
    "Twitter is a platform for health-related information. Further, geo-tagging allows researchers to identify geographical regions where smoking cessation tweets are predominant. Research shows that exposure to health information on social media has been associated with health behavior. The primary goal of this project is to examine the volume and content of smoking cessation tweets. "
   ]
  },
  {
   "cell_type": "markdown",
   "metadata": {},
   "source": [
    "## Research question"
   ]
  },
  {
   "cell_type": "code",
   "execution_count": null,
   "metadata": {
    "collapsed": true
   },
   "outputs": [],
   "source": []
  },
  {
   "cell_type": "markdown",
   "metadata": {},
   "source": [
    "## Methods"
   ]
  },
  {
   "cell_type": "markdown",
   "metadata": {},
   "source": [
    "Using Social Studio Radian 6 application programming interface (API), we identified tweets containing smoking-related keywords from January 1st, 2009 to December 7th, 2015. Examples of keywords used for the search were: cig, smoke, smokes, smoking."
   ]
  },
  {
   "cell_type": "code",
   "execution_count": null,
   "metadata": {
    "collapsed": true
   },
   "outputs": [],
   "source": [
    "# creating a conda environment\n",
    "c:\\Users\\eltoukhysm>conda create -n pandas python=3.6 pandas\n",
    "c:\\Users\\eltoukhysm>activate pandas\n",
    "c:\\Users\\eltoukhysm>python"
   ]
  },
  {
   "cell_type": "code",
   "execution_count": 1,
   "metadata": {
    "collapsed": true
   },
   "outputs": [],
   "source": [
    "#importing packages\n",
    "import pandas as pd\n",
    "\n",
    "import numpy as np\n",
    "\n",
    "import matplotlib.pyplot as plt\n",
    "%matplotlib inline\n",
    "\n",
    "import re\n",
    "\n",
    "import nltk\n",
    "from nltk.tokenize import TweetTokenizer\n",
    "from nltk.probability import FreqDist\n",
    "\n",
    "import collections\n",
    "from collections import Counter"
   ]
  },
  {
   "cell_type": "code",
   "execution_count": 2,
   "metadata": {
    "collapsed": true,
    "scrolled": false
   },
   "outputs": [],
   "source": [
    "# reading in csv file of tweets\n",
    "df = pd.read_csv(r'c:\\Users\\eltoukhysm\\Biof309_Fall2017\\Assignments\\Final\\tweets.csv')"
   ]
  },
  {
   "cell_type": "code",
   "execution_count": 3,
   "metadata": {},
   "outputs": [
    {
     "data": {
      "text/html": [
       "<div>\n",
       "<style>\n",
       "    .dataframe thead tr:only-child th {\n",
       "        text-align: right;\n",
       "    }\n",
       "\n",
       "    .dataframe thead th {\n",
       "        text-align: left;\n",
       "    }\n",
       "\n",
       "    .dataframe tbody tr th {\n",
       "        vertical-align: top;\n",
       "    }\n",
       "</style>\n",
       "<table border=\"1\" class=\"dataframe\">\n",
       "  <thead>\n",
       "    <tr style=\"text-align: right;\">\n",
       "      <th></th>\n",
       "      <th>idstr</th>\n",
       "      <th>date</th>\n",
       "      <th>state</th>\n",
       "      <th>text</th>\n",
       "      <th>favorite_count</th>\n",
       "      <th>retweet_count</th>\n",
       "    </tr>\n",
       "  </thead>\n",
       "  <tbody>\n",
       "    <tr>\n",
       "      <th>0</th>\n",
       "      <td>335444384575262720</td>\n",
       "      <td>Fri May 17 17:19:08 +0000 2013</td>\n",
       "      <td>NaN</td>\n",
       "      <td>RT @kroda15: @Simply1Derfulll cigarette smokin...</td>\n",
       "      <td>0</td>\n",
       "      <td>1</td>\n",
       "    </tr>\n",
       "    <tr>\n",
       "      <th>1</th>\n",
       "      <td>656610567600345088</td>\n",
       "      <td>Tue Oct 20 23:18:53 +0000 2015</td>\n",
       "      <td>NaN</td>\n",
       "      <td>RT @novacrossQueen: at the age of 29 years old...</td>\n",
       "      <td>0</td>\n",
       "      <td>12</td>\n",
       "    </tr>\n",
       "    <tr>\n",
       "      <th>2</th>\n",
       "      <td>223421278256775169</td>\n",
       "      <td>Thu Jul 12 14:19:18 +0000 2012</td>\n",
       "      <td>NaN</td>\n",
       "      <td>RT @UberFacts: Tobacco smoke contains over 4,0...</td>\n",
       "      <td>0</td>\n",
       "      <td>1498</td>\n",
       "    </tr>\n",
       "    <tr>\n",
       "      <th>3</th>\n",
       "      <td>221635492653961217</td>\n",
       "      <td>Sat Jul 07 16:03:13 +0000 2012</td>\n",
       "      <td>NaN</td>\n",
       "      <td>RT @NotCommonFacts: Tobacco is the leading cau...</td>\n",
       "      <td>0</td>\n",
       "      <td>609</td>\n",
       "    </tr>\n",
       "    <tr>\n",
       "      <th>4</th>\n",
       "      <td>12915869753</td>\n",
       "      <td>Tue Apr 27 00:53:02 +0000 2010</td>\n",
       "      <td>CA</td>\n",
       "      <td>study finds smoking, lack of exercise, poor di...</td>\n",
       "      <td>0</td>\n",
       "      <td>0</td>\n",
       "    </tr>\n",
       "  </tbody>\n",
       "</table>\n",
       "</div>"
      ],
      "text/plain": [
       "                idstr                            date state  \\\n",
       "0  335444384575262720  Fri May 17 17:19:08 +0000 2013   NaN   \n",
       "1  656610567600345088  Tue Oct 20 23:18:53 +0000 2015   NaN   \n",
       "2  223421278256775169  Thu Jul 12 14:19:18 +0000 2012   NaN   \n",
       "3  221635492653961217  Sat Jul 07 16:03:13 +0000 2012   NaN   \n",
       "4         12915869753  Tue Apr 27 00:53:02 +0000 2010    CA   \n",
       "\n",
       "                                                text  favorite_count  \\\n",
       "0  RT @kroda15: @Simply1Derfulll cigarette smokin...               0   \n",
       "1  RT @novacrossQueen: at the age of 29 years old...               0   \n",
       "2  RT @UberFacts: Tobacco smoke contains over 4,0...               0   \n",
       "3  RT @NotCommonFacts: Tobacco is the leading cau...               0   \n",
       "4  study finds smoking, lack of exercise, poor di...               0   \n",
       "\n",
       "   retweet_count  \n",
       "0              1  \n",
       "1             12  \n",
       "2           1498  \n",
       "3            609  \n",
       "4              0  "
      ]
     },
     "execution_count": 3,
     "metadata": {},
     "output_type": "execute_result"
    }
   ],
   "source": [
    "df.head()"
   ]
  },
  {
   "cell_type": "code",
   "execution_count": 4,
   "metadata": {},
   "outputs": [
    {
     "data": {
      "text/html": [
       "<div>\n",
       "<style>\n",
       "    .dataframe thead tr:only-child th {\n",
       "        text-align: right;\n",
       "    }\n",
       "\n",
       "    .dataframe thead th {\n",
       "        text-align: left;\n",
       "    }\n",
       "\n",
       "    .dataframe tbody tr th {\n",
       "        vertical-align: top;\n",
       "    }\n",
       "</style>\n",
       "<table border=\"1\" class=\"dataframe\">\n",
       "  <thead>\n",
       "    <tr style=\"text-align: right;\">\n",
       "      <th></th>\n",
       "      <th>idstr</th>\n",
       "      <th>favorite_count</th>\n",
       "      <th>retweet_count</th>\n",
       "    </tr>\n",
       "  </thead>\n",
       "  <tbody>\n",
       "    <tr>\n",
       "      <th>count</th>\n",
       "      <td>5.554790e+05</td>\n",
       "      <td>555479.000000</td>\n",
       "      <td>555479.000000</td>\n",
       "    </tr>\n",
       "    <tr>\n",
       "      <th>mean</th>\n",
       "      <td>3.651935e+17</td>\n",
       "      <td>0.349028</td>\n",
       "      <td>237.100007</td>\n",
       "    </tr>\n",
       "    <tr>\n",
       "      <th>std</th>\n",
       "      <td>2.067314e+17</td>\n",
       "      <td>12.848667</td>\n",
       "      <td>603.781875</td>\n",
       "    </tr>\n",
       "    <tr>\n",
       "      <th>min</th>\n",
       "      <td>1.089198e+09</td>\n",
       "      <td>0.000000</td>\n",
       "      <td>0.000000</td>\n",
       "    </tr>\n",
       "    <tr>\n",
       "      <th>25%</th>\n",
       "      <td>2.033430e+17</td>\n",
       "      <td>0.000000</td>\n",
       "      <td>0.000000</td>\n",
       "    </tr>\n",
       "    <tr>\n",
       "      <th>50%</th>\n",
       "      <td>3.774682e+17</td>\n",
       "      <td>0.000000</td>\n",
       "      <td>1.000000</td>\n",
       "    </tr>\n",
       "    <tr>\n",
       "      <th>75%</th>\n",
       "      <td>5.501210e+17</td>\n",
       "      <td>0.000000</td>\n",
       "      <td>140.000000</td>\n",
       "    </tr>\n",
       "    <tr>\n",
       "      <th>max</th>\n",
       "      <td>6.739131e+17</td>\n",
       "      <td>4583.000000</td>\n",
       "      <td>84192.000000</td>\n",
       "    </tr>\n",
       "  </tbody>\n",
       "</table>\n",
       "</div>"
      ],
      "text/plain": [
       "              idstr  favorite_count  retweet_count\n",
       "count  5.554790e+05   555479.000000  555479.000000\n",
       "mean   3.651935e+17        0.349028     237.100007\n",
       "std    2.067314e+17       12.848667     603.781875\n",
       "min    1.089198e+09        0.000000       0.000000\n",
       "25%    2.033430e+17        0.000000       0.000000\n",
       "50%    3.774682e+17        0.000000       1.000000\n",
       "75%    5.501210e+17        0.000000     140.000000\n",
       "max    6.739131e+17     4583.000000   84192.000000"
      ]
     },
     "execution_count": 4,
     "metadata": {},
     "output_type": "execute_result"
    }
   ],
   "source": [
    "df.describe()"
   ]
  },
  {
   "cell_type": "code",
   "execution_count": 5,
   "metadata": {
    "collapsed": true,
    "scrolled": true
   },
   "outputs": [],
   "source": [
    "#creating a subset dataframe with only tweets that were favored or retweeted one or more times\n",
    "df1 = df[np.logical_and(df[\"favorite_count\"]>=1, df[\"retweet_count\"]>=1)]"
   ]
  },
  {
   "cell_type": "code",
   "execution_count": 6,
   "metadata": {},
   "outputs": [
    {
     "data": {
      "text/html": [
       "<div>\n",
       "<style>\n",
       "    .dataframe thead tr:only-child th {\n",
       "        text-align: right;\n",
       "    }\n",
       "\n",
       "    .dataframe thead th {\n",
       "        text-align: left;\n",
       "    }\n",
       "\n",
       "    .dataframe tbody tr th {\n",
       "        vertical-align: top;\n",
       "    }\n",
       "</style>\n",
       "<table border=\"1\" class=\"dataframe\">\n",
       "  <thead>\n",
       "    <tr style=\"text-align: right;\">\n",
       "      <th></th>\n",
       "      <th>idstr</th>\n",
       "      <th>date</th>\n",
       "      <th>state</th>\n",
       "      <th>text</th>\n",
       "      <th>favorite_count</th>\n",
       "      <th>retweet_count</th>\n",
       "    </tr>\n",
       "  </thead>\n",
       "  <tbody>\n",
       "    <tr>\n",
       "      <th>37</th>\n",
       "      <td>596485597335662593</td>\n",
       "      <td>Fri May 08 01:23:43 +0000 2015</td>\n",
       "      <td>NaN</td>\n",
       "      <td>Research found that marijuana does not damage ...</td>\n",
       "      <td>1</td>\n",
       "      <td>1</td>\n",
       "    </tr>\n",
       "    <tr>\n",
       "      <th>38</th>\n",
       "      <td>338100487184318465</td>\n",
       "      <td>Sat May 25 01:13:32 +0000 2013</td>\n",
       "      <td>NY</td>\n",
       "      <td>Chewing tobacco is a complete turnoff. Especia...</td>\n",
       "      <td>3</td>\n",
       "      <td>6</td>\n",
       "    </tr>\n",
       "    <tr>\n",
       "      <th>112</th>\n",
       "      <td>602184535736918017</td>\n",
       "      <td>Sat May 23 18:49:16 +0000 2015</td>\n",
       "      <td>WA</td>\n",
       "      <td>*smokes joint* dude I swear the only thing to ...</td>\n",
       "      <td>11</td>\n",
       "      <td>2</td>\n",
       "    </tr>\n",
       "    <tr>\n",
       "      <th>126</th>\n",
       "      <td>614811102359072768</td>\n",
       "      <td>Sat Jun 27 15:02:44 +0000 2015</td>\n",
       "      <td>NaN</td>\n",
       "      <td>#MSGKickToDrugs bcz chewing tobacco and snuff ...</td>\n",
       "      <td>2</td>\n",
       "      <td>6</td>\n",
       "    </tr>\n",
       "    <tr>\n",
       "      <th>129</th>\n",
       "      <td>284773487070031873</td>\n",
       "      <td>Fri Dec 28 21:31:04 +0000 2012</td>\n",
       "      <td>NaN</td>\n",
       "      <td>—Ayer fue mi cumpleaños. —Felhiciidaadezz AmiW...</td>\n",
       "      <td>1</td>\n",
       "      <td>1</td>\n",
       "    </tr>\n",
       "  </tbody>\n",
       "</table>\n",
       "</div>"
      ],
      "text/plain": [
       "                  idstr                            date state  \\\n",
       "37   596485597335662593  Fri May 08 01:23:43 +0000 2015   NaN   \n",
       "38   338100487184318465  Sat May 25 01:13:32 +0000 2013    NY   \n",
       "112  602184535736918017  Sat May 23 18:49:16 +0000 2015    WA   \n",
       "126  614811102359072768  Sat Jun 27 15:02:44 +0000 2015   NaN   \n",
       "129  284773487070031873  Fri Dec 28 21:31:04 +0000 2012   NaN   \n",
       "\n",
       "                                                  text  favorite_count  \\\n",
       "37   Research found that marijuana does not damage ...               1   \n",
       "38   Chewing tobacco is a complete turnoff. Especia...               3   \n",
       "112  *smokes joint* dude I swear the only thing to ...              11   \n",
       "126  #MSGKickToDrugs bcz chewing tobacco and snuff ...               2   \n",
       "129  —Ayer fue mi cumpleaños. —Felhiciidaadezz AmiW...               1   \n",
       "\n",
       "     retweet_count  \n",
       "37               1  \n",
       "38               6  \n",
       "112              2  \n",
       "126              6  \n",
       "129              1  "
      ]
     },
     "execution_count": 6,
     "metadata": {},
     "output_type": "execute_result"
    }
   ],
   "source": [
    "df1.head()"
   ]
  },
  {
   "cell_type": "code",
   "execution_count": 7,
   "metadata": {},
   "outputs": [
    {
     "data": {
      "text/html": [
       "<div>\n",
       "<style>\n",
       "    .dataframe thead tr:only-child th {\n",
       "        text-align: right;\n",
       "    }\n",
       "\n",
       "    .dataframe thead th {\n",
       "        text-align: left;\n",
       "    }\n",
       "\n",
       "    .dataframe tbody tr th {\n",
       "        vertical-align: top;\n",
       "    }\n",
       "</style>\n",
       "<table border=\"1\" class=\"dataframe\">\n",
       "  <thead>\n",
       "    <tr style=\"text-align: right;\">\n",
       "      <th></th>\n",
       "      <th>idstr</th>\n",
       "      <th>favorite_count</th>\n",
       "      <th>retweet_count</th>\n",
       "    </tr>\n",
       "  </thead>\n",
       "  <tbody>\n",
       "    <tr>\n",
       "      <th>count</th>\n",
       "      <td>1.588100e+04</td>\n",
       "      <td>15881.000000</td>\n",
       "      <td>15881.000000</td>\n",
       "    </tr>\n",
       "    <tr>\n",
       "      <th>mean</th>\n",
       "      <td>4.800480e+17</td>\n",
       "      <td>10.621057</td>\n",
       "      <td>18.094893</td>\n",
       "    </tr>\n",
       "    <tr>\n",
       "      <th>std</th>\n",
       "      <td>1.600289e+17</td>\n",
       "      <td>75.238618</td>\n",
       "      <td>98.562745</td>\n",
       "    </tr>\n",
       "    <tr>\n",
       "      <th>min</th>\n",
       "      <td>2.187088e+09</td>\n",
       "      <td>1.000000</td>\n",
       "      <td>1.000000</td>\n",
       "    </tr>\n",
       "    <tr>\n",
       "      <th>25%</th>\n",
       "      <td>3.945466e+17</td>\n",
       "      <td>1.000000</td>\n",
       "      <td>1.000000</td>\n",
       "    </tr>\n",
       "    <tr>\n",
       "      <th>50%</th>\n",
       "      <td>5.054504e+17</td>\n",
       "      <td>2.000000</td>\n",
       "      <td>2.000000</td>\n",
       "    </tr>\n",
       "    <tr>\n",
       "      <th>75%</th>\n",
       "      <td>6.148151e+17</td>\n",
       "      <td>4.000000</td>\n",
       "      <td>6.000000</td>\n",
       "    </tr>\n",
       "    <tr>\n",
       "      <th>max</th>\n",
       "      <td>6.736154e+17</td>\n",
       "      <td>4583.000000</td>\n",
       "      <td>3167.000000</td>\n",
       "    </tr>\n",
       "  </tbody>\n",
       "</table>\n",
       "</div>"
      ],
      "text/plain": [
       "              idstr  favorite_count  retweet_count\n",
       "count  1.588100e+04    15881.000000   15881.000000\n",
       "mean   4.800480e+17       10.621057      18.094893\n",
       "std    1.600289e+17       75.238618      98.562745\n",
       "min    2.187088e+09        1.000000       1.000000\n",
       "25%    3.945466e+17        1.000000       1.000000\n",
       "50%    5.054504e+17        2.000000       2.000000\n",
       "75%    6.148151e+17        4.000000       6.000000\n",
       "max    6.736154e+17     4583.000000    3167.000000"
      ]
     },
     "execution_count": 7,
     "metadata": {},
     "output_type": "execute_result"
    }
   ],
   "source": [
    "df1.describe()"
   ]
  },
  {
   "cell_type": "markdown",
   "metadata": {},
   "source": [
    "### Descriptives"
   ]
  },
  {
   "cell_type": "code",
   "execution_count": 13,
   "metadata": {},
   "outputs": [
    {
     "data": {
      "image/png": "[encoded data removed]",
      "text/plain": [
       "<matplotlib.figure.Figure at 0x14e83951828>"
      ]
     },
     "metadata": {},
     "output_type": "display_data"
    }
   ],
   "source": [
    "favorites = df1['favorite_count'].values\n",
    "type(favorites)\n",
    "plt.figure(figsize=(20,5))\n",
    "plt.plot(favorites)\n",
    "plt.xlabel('Tweet number')\n",
    "plt.ylabel('Number of times favored')\n",
    "plt.title('Figure 1: Favored counts')\n",
    "plt.savefig('plot1.png')\n",
    "plt.show()"
   ]
  },
  {
   "cell_type": "code",
   "execution_count": 14,
   "metadata": {},
   "outputs": [
    {
     "data": {
      "image/png": "[encoded data removed]",
      "text/plain": [
       "<matplotlib.figure.Figure at 0x14e839ea6d8>"
      ]
     },
     "metadata": {},
     "output_type": "display_data"
    }
   ],
   "source": [
    "retweets = df1['retweet_count'].values\n",
    "type(retweets)\n",
    "plt.figure(figsize=(20,5))\n",
    "plt.plot(retweets)\n",
    "plt.xlabel('Tweet number')\n",
    "plt.ylabel('Number of times retweeted')\n",
    "plt.title('Figure 2: Retweet counts')\n",
    "plt.savefig('plot2.png')\n",
    "plt.show()"
   ]
  },
  {
   "cell_type": "code",
   "execution_count": 10,
   "metadata": {},
   "outputs": [
    {
     "name": "stdout",
     "output_type": "stream",
     "text": [
      "                favorite_count  retweet_count\n",
      "favorite_count         1.00000        0.73854\n",
      "retweet_count          0.73854        1.00000\n"
     ]
    }
   ],
   "source": [
    "# finding correlation between favorites and retweets and plotting them\n",
    "print(df1[['favorite_count','retweet_count']].corr())"
   ]
  },
  {
   "cell_type": "code",
   "execution_count": 17,
   "metadata": {},
   "outputs": [
    {
     "data": {
      "image/png": "[encoded data removed]",
      "text/plain": [
       "<matplotlib.figure.Figure at 0x14e83b6c710>"
      ]
     },
     "metadata": {},
     "output_type": "display_data"
    }
   ],
   "source": [
    "#creating a plot for mean favorites and retweets\n",
    "plt.figure(figsize=(10,5))\n",
    "plt.scatter(df1['favorite_count'], df1['retweet_count'])\n",
    "plt.xlabel('Favored counts')\n",
    "plt.ylabel('Retweet counts')\n",
    "plt.title('Figure 3: Correlation between favored and retweets')\n",
    "plt.savefig('plot3.png')\n",
    "plt.show()"
   ]
  },
  {
   "cell_type": "code",
   "execution_count": 12,
   "metadata": {},
   "outputs": [
    {
     "data": {
      "text/html": [
       "<div>\n",
       "<style>\n",
       "    .dataframe thead tr:only-child th {\n",
       "        text-align: right;\n",
       "    }\n",
       "\n",
       "    .dataframe thead th {\n",
       "        text-align: left;\n",
       "    }\n",
       "\n",
       "    .dataframe tbody tr th {\n",
       "        vertical-align: top;\n",
       "    }\n",
       "</style>\n",
       "<table border=\"1\" class=\"dataframe\">\n",
       "  <thead>\n",
       "    <tr style=\"text-align: right;\">\n",
       "      <th></th>\n",
       "      <th>idstr</th>\n",
       "      <th>date</th>\n",
       "      <th>state</th>\n",
       "      <th>text</th>\n",
       "      <th>favorite_count</th>\n",
       "      <th>retweet_count</th>\n",
       "      <th>favorite</th>\n",
       "      <th>retweet</th>\n",
       "    </tr>\n",
       "  </thead>\n",
       "  <tbody>\n",
       "    <tr>\n",
       "      <th>37</th>\n",
       "      <td>596485597335662593</td>\n",
       "      <td>Fri May 08 01:23:43 +0000 2015</td>\n",
       "      <td>NaN</td>\n",
       "      <td>Research found that marijuana does not damage ...</td>\n",
       "      <td>1</td>\n",
       "      <td>1</td>\n",
       "      <td>low</td>\n",
       "      <td>low</td>\n",
       "    </tr>\n",
       "    <tr>\n",
       "      <th>38</th>\n",
       "      <td>338100487184318465</td>\n",
       "      <td>Sat May 25 01:13:32 +0000 2013</td>\n",
       "      <td>NY</td>\n",
       "      <td>Chewing tobacco is a complete turnoff. Especia...</td>\n",
       "      <td>3</td>\n",
       "      <td>6</td>\n",
       "      <td>low</td>\n",
       "      <td>low</td>\n",
       "    </tr>\n",
       "    <tr>\n",
       "      <th>112</th>\n",
       "      <td>602184535736918017</td>\n",
       "      <td>Sat May 23 18:49:16 +0000 2015</td>\n",
       "      <td>WA</td>\n",
       "      <td>*smokes joint* dude I swear the only thing to ...</td>\n",
       "      <td>11</td>\n",
       "      <td>2</td>\n",
       "      <td>high</td>\n",
       "      <td>low</td>\n",
       "    </tr>\n",
       "    <tr>\n",
       "      <th>126</th>\n",
       "      <td>614811102359072768</td>\n",
       "      <td>Sat Jun 27 15:02:44 +0000 2015</td>\n",
       "      <td>NaN</td>\n",
       "      <td>#MSGKickToDrugs bcz chewing tobacco and snuff ...</td>\n",
       "      <td>2</td>\n",
       "      <td>6</td>\n",
       "      <td>low</td>\n",
       "      <td>low</td>\n",
       "    </tr>\n",
       "    <tr>\n",
       "      <th>129</th>\n",
       "      <td>284773487070031873</td>\n",
       "      <td>Fri Dec 28 21:31:04 +0000 2012</td>\n",
       "      <td>NaN</td>\n",
       "      <td>—Ayer fue mi cumpleaños. —Felhiciidaadezz AmiW...</td>\n",
       "      <td>1</td>\n",
       "      <td>1</td>\n",
       "      <td>low</td>\n",
       "      <td>low</td>\n",
       "    </tr>\n",
       "  </tbody>\n",
       "</table>\n",
       "</div>"
      ],
      "text/plain": [
       "                  idstr                            date state  \\\n",
       "37   596485597335662593  Fri May 08 01:23:43 +0000 2015   NaN   \n",
       "38   338100487184318465  Sat May 25 01:13:32 +0000 2013    NY   \n",
       "112  602184535736918017  Sat May 23 18:49:16 +0000 2015    WA   \n",
       "126  614811102359072768  Sat Jun 27 15:02:44 +0000 2015   NaN   \n",
       "129  284773487070031873  Fri Dec 28 21:31:04 +0000 2012   NaN   \n",
       "\n",
       "                                                  text  favorite_count  \\\n",
       "37   Research found that marijuana does not damage ...               1   \n",
       "38   Chewing tobacco is a complete turnoff. Especia...               3   \n",
       "112  *smokes joint* dude I swear the only thing to ...              11   \n",
       "126  #MSGKickToDrugs bcz chewing tobacco and snuff ...               2   \n",
       "129  —Ayer fue mi cumpleaños. —Felhiciidaadezz AmiW...               1   \n",
       "\n",
       "     retweet_count favorite retweet  \n",
       "37               1      low     low  \n",
       "38               6      low     low  \n",
       "112              2     high     low  \n",
       "126              6      low     low  \n",
       "129              1      low     low  "
      ]
     },
     "execution_count": 12,
     "metadata": {},
     "output_type": "execute_result"
    }
   ],
   "source": [
    "#creating a function low/high based on mean favorite_count (10.62) and retweet_count(18.09)\n",
    "f = []\n",
    "for row in df1['favorite_count']:\n",
    "    if row < 10.62:\n",
    "        f.append('low')\n",
    "    elif row > 10.62:\n",
    "        f.append('high')\n",
    "\n",
    "r = []\n",
    "for row in df1['retweet_count']:\n",
    "    if row < 18.09:\n",
    "        r.append('low')\n",
    "    elif row >18.09:\n",
    "        r.append('high')\n",
    "\n",
    "df1 = df1.assign(favorite=f)\n",
    "df1 = df1.assign(retweet=r)\n",
    "\n",
    "df1.head()"
   ]
  },
  {
   "cell_type": "code",
   "execution_count": 13,
   "metadata": {},
   "outputs": [
    {
     "data": {
      "text/plain": [
       "array([nan, 'NY', 'WA', 'VT', 'CA', 'MA', 'DC', 'TN', 'NJ', 'TX', 'GA',\n",
       "       'OH', 'MD', 'CO', 'OK', 'NC', 'FL', 'WV', 'SC', 'IN', 'VA', 'NV',\n",
       "       'AL', 'NE', 'PA', 'OR', 'AZ', 'IL', 'ID', 'KY', 'UT', 'MI', 'AR',\n",
       "       'ME', 'MS', 'KS', 'WI', 'IA', 'AK', 'MO', 'NH', 'MN', 'HI', 'LA',\n",
       "       'CT', 'ND', 'RI', 'MP', 'DE', 'SD', 'WY', 'AS', 'NM', 'MT'], dtype=object)"
      ]
     },
     "execution_count": 13,
     "metadata": {},
     "output_type": "execute_result"
    }
   ],
   "source": [
    "#finding unique entries in State column\n",
    "df1['state'].unique()"
   ]
  },
  {
   "cell_type": "code",
   "execution_count": 14,
   "metadata": {},
   "outputs": [
    {
     "data": {
      "text/html": [
       "<div>\n",
       "<style>\n",
       "    .dataframe thead tr:only-child th {\n",
       "        text-align: right;\n",
       "    }\n",
       "\n",
       "    .dataframe thead th {\n",
       "        text-align: left;\n",
       "    }\n",
       "\n",
       "    .dataframe tbody tr th {\n",
       "        vertical-align: top;\n",
       "    }\n",
       "</style>\n",
       "<table border=\"1\" class=\"dataframe\">\n",
       "  <thead>\n",
       "    <tr style=\"text-align: right;\">\n",
       "      <th></th>\n",
       "      <th>idstr</th>\n",
       "      <th>favorite_count</th>\n",
       "      <th>retweet_count</th>\n",
       "    </tr>\n",
       "  </thead>\n",
       "  <tbody>\n",
       "    <tr>\n",
       "      <th>count</th>\n",
       "      <td>5.300000e+01</td>\n",
       "      <td>53.000000</td>\n",
       "      <td>53.000000</td>\n",
       "    </tr>\n",
       "    <tr>\n",
       "      <th>mean</th>\n",
       "      <td>4.761529e+17</td>\n",
       "      <td>4.999287</td>\n",
       "      <td>6.741685</td>\n",
       "    </tr>\n",
       "    <tr>\n",
       "      <th>std</th>\n",
       "      <td>3.257178e+16</td>\n",
       "      <td>2.994109</td>\n",
       "      <td>5.467091</td>\n",
       "    </tr>\n",
       "    <tr>\n",
       "      <th>min</th>\n",
       "      <td>3.768725e+17</td>\n",
       "      <td>1.375000</td>\n",
       "      <td>1.750000</td>\n",
       "    </tr>\n",
       "    <tr>\n",
       "      <th>25%</th>\n",
       "      <td>4.645779e+17</td>\n",
       "      <td>2.914894</td>\n",
       "      <td>3.156250</td>\n",
       "    </tr>\n",
       "    <tr>\n",
       "      <th>50%</th>\n",
       "      <td>4.773277e+17</td>\n",
       "      <td>4.135802</td>\n",
       "      <td>4.576271</td>\n",
       "    </tr>\n",
       "    <tr>\n",
       "      <th>75%</th>\n",
       "      <td>4.897968e+17</td>\n",
       "      <td>6.248649</td>\n",
       "      <td>9.130952</td>\n",
       "    </tr>\n",
       "    <tr>\n",
       "      <th>max</th>\n",
       "      <td>6.221306e+17</td>\n",
       "      <td>14.000000</td>\n",
       "      <td>24.111111</td>\n",
       "    </tr>\n",
       "  </tbody>\n",
       "</table>\n",
       "</div>"
      ],
      "text/plain": [
       "              idstr  favorite_count  retweet_count\n",
       "count  5.300000e+01       53.000000      53.000000\n",
       "mean   4.761529e+17        4.999287       6.741685\n",
       "std    3.257178e+16        2.994109       5.467091\n",
       "min    3.768725e+17        1.375000       1.750000\n",
       "25%    4.645779e+17        2.914894       3.156250\n",
       "50%    4.773277e+17        4.135802       4.576271\n",
       "75%    4.897968e+17        6.248649       9.130952\n",
       "max    6.221306e+17       14.000000      24.111111"
      ]
     },
     "execution_count": 14,
     "metadata": {},
     "output_type": "execute_result"
    }
   ],
   "source": [
    "#Getting the mean favored and retweeted by State and saving it to a new dataframe\n",
    "stats = df1.groupby('state').mean()\n",
    "stats.describe()"
   ]
  },
  {
   "cell_type": "code",
   "execution_count": 15,
   "metadata": {},
   "outputs": [
    {
     "data": {
      "text/html": [
       "<div>\n",
       "<style>\n",
       "    .dataframe thead tr:only-child th {\n",
       "        text-align: right;\n",
       "    }\n",
       "\n",
       "    .dataframe thead th {\n",
       "        text-align: left;\n",
       "    }\n",
       "\n",
       "    .dataframe tbody tr th {\n",
       "        vertical-align: top;\n",
       "    }\n",
       "</style>\n",
       "<table border=\"1\" class=\"dataframe\">\n",
       "  <thead>\n",
       "    <tr style=\"text-align: right;\">\n",
       "      <th></th>\n",
       "      <th>idstr</th>\n",
       "      <th>date</th>\n",
       "      <th>state</th>\n",
       "      <th>text</th>\n",
       "      <th>favorite_count</th>\n",
       "      <th>retweet_count</th>\n",
       "      <th>favorite</th>\n",
       "      <th>retweet</th>\n",
       "      <th>statefavorite</th>\n",
       "      <th>stateretweet</th>\n",
       "    </tr>\n",
       "  </thead>\n",
       "  <tbody>\n",
       "    <tr>\n",
       "      <th>37</th>\n",
       "      <td>596485597335662593</td>\n",
       "      <td>Fri May 08 01:23:43 +0000 2015</td>\n",
       "      <td>NaN</td>\n",
       "      <td>Research found that marijuana does not damage ...</td>\n",
       "      <td>1</td>\n",
       "      <td>1</td>\n",
       "      <td>low</td>\n",
       "      <td>low</td>\n",
       "      <td>low</td>\n",
       "      <td>low</td>\n",
       "    </tr>\n",
       "    <tr>\n",
       "      <th>38</th>\n",
       "      <td>338100487184318465</td>\n",
       "      <td>Sat May 25 01:13:32 +0000 2013</td>\n",
       "      <td>NY</td>\n",
       "      <td>Chewing tobacco is a complete turnoff. Especia...</td>\n",
       "      <td>3</td>\n",
       "      <td>6</td>\n",
       "      <td>low</td>\n",
       "      <td>low</td>\n",
       "      <td>medium</td>\n",
       "      <td>high</td>\n",
       "    </tr>\n",
       "    <tr>\n",
       "      <th>112</th>\n",
       "      <td>602184535736918017</td>\n",
       "      <td>Sat May 23 18:49:16 +0000 2015</td>\n",
       "      <td>WA</td>\n",
       "      <td>*smokes joint* dude I swear the only thing to ...</td>\n",
       "      <td>11</td>\n",
       "      <td>2</td>\n",
       "      <td>high</td>\n",
       "      <td>low</td>\n",
       "      <td>high</td>\n",
       "      <td>low</td>\n",
       "    </tr>\n",
       "    <tr>\n",
       "      <th>126</th>\n",
       "      <td>614811102359072768</td>\n",
       "      <td>Sat Jun 27 15:02:44 +0000 2015</td>\n",
       "      <td>NaN</td>\n",
       "      <td>#MSGKickToDrugs bcz chewing tobacco and snuff ...</td>\n",
       "      <td>2</td>\n",
       "      <td>6</td>\n",
       "      <td>low</td>\n",
       "      <td>low</td>\n",
       "      <td>low</td>\n",
       "      <td>high</td>\n",
       "    </tr>\n",
       "    <tr>\n",
       "      <th>129</th>\n",
       "      <td>284773487070031873</td>\n",
       "      <td>Fri Dec 28 21:31:04 +0000 2012</td>\n",
       "      <td>NaN</td>\n",
       "      <td>—Ayer fue mi cumpleaños. —Felhiciidaadezz AmiW...</td>\n",
       "      <td>1</td>\n",
       "      <td>1</td>\n",
       "      <td>low</td>\n",
       "      <td>low</td>\n",
       "      <td>low</td>\n",
       "      <td>low</td>\n",
       "    </tr>\n",
       "  </tbody>\n",
       "</table>\n",
       "</div>"
      ],
      "text/plain": [
       "                  idstr                            date state  \\\n",
       "37   596485597335662593  Fri May 08 01:23:43 +0000 2015   NaN   \n",
       "38   338100487184318465  Sat May 25 01:13:32 +0000 2013    NY   \n",
       "112  602184535736918017  Sat May 23 18:49:16 +0000 2015    WA   \n",
       "126  614811102359072768  Sat Jun 27 15:02:44 +0000 2015   NaN   \n",
       "129  284773487070031873  Fri Dec 28 21:31:04 +0000 2012   NaN   \n",
       "\n",
       "                                                  text  favorite_count  \\\n",
       "37   Research found that marijuana does not damage ...               1   \n",
       "38   Chewing tobacco is a complete turnoff. Especia...               3   \n",
       "112  *smokes joint* dude I swear the only thing to ...              11   \n",
       "126  #MSGKickToDrugs bcz chewing tobacco and snuff ...               2   \n",
       "129  —Ayer fue mi cumpleaños. —Felhiciidaadezz AmiW...               1   \n",
       "\n",
       "     retweet_count favorite retweet statefavorite stateretweet  \n",
       "37               1      low     low           low          low  \n",
       "38               6      low     low        medium         high  \n",
       "112              2     high     low          high          low  \n",
       "126              6      low     low           low         high  \n",
       "129              1      low     low           low          low  "
      ]
     },
     "execution_count": 15,
     "metadata": {},
     "output_type": "execute_result"
    }
   ],
   "source": [
    "#creating a function with values low, medium, high based on quartiles grouped by states\n",
    "fs = []\n",
    "for row in df1['favorite_count']:\n",
    "    if row <= 2.91:\n",
    "        fs.append('low')\n",
    "    elif row > 2.91 and row < 4.13:\n",
    "        fs.append('medium')\n",
    "    else:\n",
    "        fs.append('high')\n",
    "\n",
    "#creating a function with values low, medium, high based on quartiles grouped by states\n",
    "rs = []\n",
    "for row in df1['retweet_count']:\n",
    "    if row <= 3.15:\n",
    "        rs.append('low')\n",
    "    elif row > 3.15 and row < 4.57:\n",
    "        rs.append('medium')\n",
    "    else:\n",
    "        rs.append('high')\n",
    "\n",
    "df1 = df1.assign(statefavorite=fs)\n",
    "df1 = df1.assign(stateretweet=rs)\n",
    "\n",
    "df1.head()"
   ]
  },
  {
   "cell_type": "code",
   "execution_count": 16,
   "metadata": {},
   "outputs": [
    {
     "data": {
      "text/plain": [
       "state  statefavorite\n",
       "AK     low                9\n",
       "       high               7\n",
       "       medium             1\n",
       "AL     low               32\n",
       "       medium             4\n",
       "       high               2\n",
       "AR     low               18\n",
       "       medium             6\n",
       "       high               2\n",
       "AS     high               3\n",
       "       low                1\n",
       "AZ     low               62\n",
       "       high              21\n",
       "       medium            18\n",
       "CA     low              443\n",
       "       high             179\n",
       "       medium           116\n",
       "CO     low               50\n",
       "       high              15\n",
       "       medium             8\n",
       "CT     low               46\n",
       "       high              13\n",
       "       medium            11\n",
       "DC     low              169\n",
       "       high              71\n",
       "       medium            48\n",
       "DE     low                8\n",
       "FL     low              248\n",
       "       high              62\n",
       "       medium            50\n",
       "                       ... \n",
       "SC     high               8\n",
       "SD     low                7\n",
       "       high               4\n",
       "TN     low               67\n",
       "       high              21\n",
       "       medium            18\n",
       "TX     low              286\n",
       "       high             114\n",
       "       medium            70\n",
       "UT     low               32\n",
       "       high               9\n",
       "       medium             4\n",
       "VA     low               69\n",
       "       high              15\n",
       "       medium            14\n",
       "VT     low                6\n",
       "       high               3\n",
       "       medium             2\n",
       "WA     low               97\n",
       "       high              21\n",
       "       medium            15\n",
       "WI     low               59\n",
       "       medium            13\n",
       "       high              12\n",
       "WV     low               10\n",
       "       high               2\n",
       "       medium             2\n",
       "WY     high               1\n",
       "       low                1\n",
       "       medium             1\n",
       "Name: statefavorite, Length: 152, dtype: int64"
      ]
     },
     "execution_count": 16,
     "metadata": {},
     "output_type": "execute_result"
    }
   ],
   "source": [
    "#counting categories of favored tweets by state\n",
    "df1.groupby('state')['statefavorite'].value_counts()"
   ]
  },
  {
   "cell_type": "code",
   "execution_count": 17,
   "metadata": {
    "scrolled": true
   },
   "outputs": [
    {
     "data": {
      "text/plain": [
       "state  stateretweet\n",
       "AK     low               9\n",
       "       high              8\n",
       "AL     low              31\n",
       "       high              6\n",
       "       medium            1\n",
       "AR     low              22\n",
       "       high              3\n",
       "       medium            1\n",
       "AS     high              3\n",
       "       low               1\n",
       "AZ     low              78\n",
       "       high             21\n",
       "       medium            2\n",
       "CA     low             506\n",
       "       high            190\n",
       "       medium           42\n",
       "CO     low              50\n",
       "       high             19\n",
       "       medium            4\n",
       "CT     low              44\n",
       "       high             19\n",
       "       medium            7\n",
       "DC     high            160\n",
       "       low             116\n",
       "       medium           12\n",
       "DE     low               5\n",
       "       high              3\n",
       "FL     low             255\n",
       "       high             80\n",
       "       medium           25\n",
       "                      ... \n",
       "SC     high              4\n",
       "       medium            4\n",
       "SD     low               8\n",
       "       high              2\n",
       "       medium            1\n",
       "TN     low              80\n",
       "       high             18\n",
       "       medium            8\n",
       "TX     low             314\n",
       "       high            126\n",
       "       medium           30\n",
       "UT     low              32\n",
       "       high              8\n",
       "       medium            5\n",
       "VA     low              73\n",
       "       high             24\n",
       "       medium            1\n",
       "VT     low               8\n",
       "       high              3\n",
       "WA     low             102\n",
       "       high             23\n",
       "       medium            8\n",
       "WI     low              60\n",
       "       high             21\n",
       "       medium            3\n",
       "WV     low               8\n",
       "       high              4\n",
       "       medium            2\n",
       "WY     high              2\n",
       "       low               1\n",
       "Name: stateretweet, Length: 149, dtype: int64"
      ]
     },
     "execution_count": 17,
     "metadata": {},
     "output_type": "execute_result"
    }
   ],
   "source": [
    "#counting categories of retweets by state\n",
    "df1.groupby('state')['stateretweet'].value_counts()"
   ]
  },
  {
   "cell_type": "code",
   "execution_count": 18,
   "metadata": {},
   "outputs": [
    {
     "name": "stdout",
     "output_type": "stream",
     "text": [
      "                      favorite_count  retweet_count\n",
      "state                                              \n",
      "AK    favorite_count        1.000000       0.899349\n",
      "      retweet_count         0.899349       1.000000\n",
      "AL    favorite_count        1.000000       0.373507\n",
      "      retweet_count         0.373507       1.000000\n",
      "AR    favorite_count        1.000000       0.270232\n",
      "      retweet_count         0.270232       1.000000\n",
      "AS    favorite_count        1.000000       0.747310\n",
      "      retweet_count         0.747310       1.000000\n",
      "AZ    favorite_count        1.000000       0.467194\n",
      "      retweet_count         0.467194       1.000000\n",
      "CA    favorite_count        1.000000       0.978872\n",
      "      retweet_count         0.978872       1.000000\n",
      "CO    favorite_count        1.000000       0.922065\n",
      "      retweet_count         0.922065       1.000000\n",
      "CT    favorite_count        1.000000       0.608592\n",
      "      retweet_count         0.608592       1.000000\n",
      "DC    favorite_count        1.000000       0.761509\n",
      "      retweet_count         0.761509       1.000000\n",
      "DE    favorite_count        1.000000       0.164014\n",
      "      retweet_count         0.164014       1.000000\n",
      "FL    favorite_count        1.000000       0.894816\n",
      "      retweet_count         0.894816       1.000000\n",
      "GA    favorite_count        1.000000       0.513652\n",
      "      retweet_count         0.513652       1.000000\n",
      "HI    favorite_count        1.000000       0.355764\n",
      "      retweet_count         0.355764       1.000000\n",
      "IA    favorite_count        1.000000       0.542996\n",
      "      retweet_count         0.542996       1.000000\n",
      "ID    favorite_count        1.000000       0.892561\n",
      "      retweet_count         0.892561       1.000000\n",
      "...                              ...            ...\n",
      "OK    favorite_count        1.000000       0.569471\n",
      "      retweet_count         0.569471       1.000000\n",
      "OR    favorite_count        1.000000       0.508780\n",
      "      retweet_count         0.508780       1.000000\n",
      "PA    favorite_count        1.000000       0.312062\n",
      "      retweet_count         0.312062       1.000000\n",
      "RI    favorite_count        1.000000       0.064348\n",
      "      retweet_count         0.064348       1.000000\n",
      "SC    favorite_count        1.000000       0.084985\n",
      "      retweet_count         0.084985       1.000000\n",
      "SD    favorite_count        1.000000       0.884638\n",
      "      retweet_count         0.884638       1.000000\n",
      "TN    favorite_count        1.000000       0.925748\n",
      "      retweet_count         0.925748       1.000000\n",
      "TX    favorite_count        1.000000       0.644168\n",
      "      retweet_count         0.644168       1.000000\n",
      "UT    favorite_count        1.000000       0.621035\n",
      "      retweet_count         0.621035       1.000000\n",
      "VA    favorite_count        1.000000       0.727870\n",
      "      retweet_count         0.727870       1.000000\n",
      "VT    favorite_count        1.000000       0.024914\n",
      "      retweet_count         0.024914       1.000000\n",
      "WA    favorite_count        1.000000       0.718541\n",
      "      retweet_count         0.718541       1.000000\n",
      "WI    favorite_count        1.000000       0.264366\n",
      "      retweet_count         0.264366       1.000000\n",
      "WV    favorite_count        1.000000       0.275537\n",
      "      retweet_count         0.275537       1.000000\n",
      "WY    favorite_count        1.000000       0.955600\n",
      "      retweet_count         0.955600       1.000000\n",
      "\n",
      "[106 rows x 2 columns]\n"
     ]
    }
   ],
   "source": [
    "#finding correlation between favored and retweeted by state\n",
    "print(df1.groupby('state')[['favorite_count','retweet_count']].corr())"
   ]
  },
  {
   "cell_type": "markdown",
   "metadata": {},
   "source": [
    "### Text analysis"
   ]
  },
  {
   "cell_type": "code",
   "execution_count": 19,
   "metadata": {
    "collapsed": true
   },
   "outputs": [],
   "source": [
    "txt = str(df1['text'])"
   ]
  },
  {
   "cell_type": "code",
   "execution_count": 20,
   "metadata": {},
   "outputs": [
    {
     "name": "stdout",
     "output_type": "stream",
     "text": [
      "37        Research found that marijuana does not damage ...\n",
      "38        Chewing tobacco is a complete turnoff. Especia...\n",
      "112       *smokes joint* dude I swear the only thing to ...\n",
      "126       #MSGKickToDrugs bcz chewing tobacco and snuff ...\n",
      "129       —Ayer fue mi cumpleaños. —Felhiciidaadezz AmiW...\n",
      "203       We support #TakeItRightOutside campaign. Smoki...\n",
      "249       Cigarette smoking causes 443,000 deaths a year...\n",
      "284       @saskiarohe yes bc we all know smoking can dam...\n",
      "289       *eats cigarette* its a metaphor *watches TV* i...\n",
      "315       #UCCShooting \"some people who smoke weed do cr...\n",
      "361       There are literally more kids getting high, ge...\n",
      "365       Alcohol-can kill u, Tobacco-Can kill You, Caff...\n",
      "375       Damage estimate for 321 Comm Ave is $100,000. ...\n",
      "395                    Smokes candy cigarette. Gets cancer.\n",
      "411       #teenchoiceawards last night: @truthorange ral...\n",
      "514       Same As #Kaththi #Puli Also No Showing 'Smokin...\n",
      "566       Auckland University is wrong - cannabis doesn'...\n",
      "616       someone get me 666 retweets so my sister can s...\n",
      "770       Tobacco use accounts for at least 30% of all c...\n",
      "785       Obesity — Not Aging — Balloons Health Care Cos...\n",
      "811       The most important thing you can do to lower l...\n",
      "872       teacher: no vaping inside my classroom \\n\\nme:...\n",
      "902       Lung cancer=$100K, emphysema=$30K. 3 major tob...\n",
      "904       #DidYouKnow Tobacco contains Nicotine (a drug ...\n",
      "977       The more people smoke, the higher the profits ...\n",
      "999       \"@BlownMind_Facts: Tobacco kills nearly six mi...\n",
      "1022      Feku's minister says I smoking' doesn't cause ...\n",
      "1066      Don't get why people are put off someone if th...\n",
      "1081      A new public health campaign is highlighting t...\n",
      "1098      @Ryan_ward12 @rachelgaarnerr it's sad your snu...\n",
      "                                ...                        \n",
      "554330    It's #HealthyLungMonth. Quit smoking to help r...\n",
      "554342    DO. NOT. SMOKE. Yellow teeth. Gross breath. Wr...\n",
      "554393    Tobacco use is the leading cause of preventabl...\n",
      "554419    #MSGKickToDrugs bcz chewing tobacco and snuff ...\n",
      "554435    In America we put down cig smokers for damagin...\n",
      "554436    Smokers at more risk of #depression &amp; #anx...\n",
      "554437    Cardiovascular risk factors include obesity, d...\n",
      "554440    Thank God I quit! \"@TheKnowledge: Cigarette sm...\n",
      "554628    \"@JhemVarron: If smoking is dangerous to your ...\n",
      "554653    A5: Don’t gamble w/ secondhand smoke! NIOSH in...\n",
      "554701    More than 400,000 Americans die from diseases ...\n",
      "554753    “Tobacco kills more Americans each year than c...\n",
      "554812    Smoking is hazardous to your health... and bab...\n",
      "554845    Tobacco kills over 5 million people each year ...\n",
      "554885    i think the only thing that could effectively ...\n",
      "554901    When you're going up against tobacco, the undi...\n",
      "554933    if I wanted the risk of dying from lung cancer...\n",
      "554946    President on climate change: \"I’m not a doctor...\n",
      "555024    Don't settle for less when you know you deserv...\n",
      "555028    If you let people smoke cigs in your car don't...\n",
      "555086      The damaged love the damaged. True fact. #snuff\n",
      "555125    Obesity will replace tobacco as #1 cancer indu...\n",
      "555136    Chewing tobacco is injurious to health. #kUber...\n",
      "555160    A Gursikh is better off dying rather than touc...\n",
      "555182    With smoking being a potential cause of cancer...\n",
      "555261    Cigarette #smoking is the number one preventab...\n",
      "555271    @BrandonClarke__ @Tom_lawt more chance of you ...\n",
      "555319    When video games get problematic so do smoking...\n",
      "555379    If you run out of #eJuice, the coil can burn t...\n",
      "555389    \"@ConfusionMc: Apparently cancer patients who ...\n",
      "Name: text, Length: 15881, dtype: object\n"
     ]
    }
   ],
   "source": [
    "print(txt)"
   ]
  },
  {
   "cell_type": "code",
   "execution_count": 21,
   "metadata": {
    "collapsed": true
   },
   "outputs": [],
   "source": [
    "from nltk.tokenize import TweetTokenizer"
   ]
  },
  {
   "cell_type": "code",
   "execution_count": 22,
   "metadata": {
    "collapsed": true
   },
   "outputs": [],
   "source": [
    "tt = TweetTokenizer()\n",
    "df1['tokenized_text'] = df1['text'].apply(tt.tokenize)"
   ]
  },
  {
   "cell_type": "code",
   "execution_count": 23,
   "metadata": {
    "scrolled": true
   },
   "outputs": [
    {
     "data": {
      "text/html": [
       "<div>\n",
       "<style>\n",
       "    .dataframe thead tr:only-child th {\n",
       "        text-align: right;\n",
       "    }\n",
       "\n",
       "    .dataframe thead th {\n",
       "        text-align: left;\n",
       "    }\n",
       "\n",
       "    .dataframe tbody tr th {\n",
       "        vertical-align: top;\n",
       "    }\n",
       "</style>\n",
       "<table border=\"1\" class=\"dataframe\">\n",
       "  <thead>\n",
       "    <tr style=\"text-align: right;\">\n",
       "      <th></th>\n",
       "      <th>idstr</th>\n",
       "      <th>date</th>\n",
       "      <th>state</th>\n",
       "      <th>text</th>\n",
       "      <th>favorite_count</th>\n",
       "      <th>retweet_count</th>\n",
       "      <th>favorite</th>\n",
       "      <th>retweet</th>\n",
       "      <th>statefavorite</th>\n",
       "      <th>stateretweet</th>\n",
       "      <th>tokenized_text</th>\n",
       "    </tr>\n",
       "  </thead>\n",
       "  <tbody>\n",
       "    <tr>\n",
       "      <th>37</th>\n",
       "      <td>596485597335662593</td>\n",
       "      <td>Fri May 08 01:23:43 +0000 2015</td>\n",
       "      <td>NaN</td>\n",
       "      <td>Research found that marijuana does not damage ...</td>\n",
       "      <td>1</td>\n",
       "      <td>1</td>\n",
       "      <td>low</td>\n",
       "      <td>low</td>\n",
       "      <td>low</td>\n",
       "      <td>low</td>\n",
       "      <td>[Research, found, that, marijuana, does, not, ...</td>\n",
       "    </tr>\n",
       "    <tr>\n",
       "      <th>38</th>\n",
       "      <td>338100487184318465</td>\n",
       "      <td>Sat May 25 01:13:32 +0000 2013</td>\n",
       "      <td>NY</td>\n",
       "      <td>Chewing tobacco is a complete turnoff. Especia...</td>\n",
       "      <td>3</td>\n",
       "      <td>6</td>\n",
       "      <td>low</td>\n",
       "      <td>low</td>\n",
       "      <td>medium</td>\n",
       "      <td>high</td>\n",
       "      <td>[Chewing, tobacco, is, a, complete, turnoff, ....</td>\n",
       "    </tr>\n",
       "    <tr>\n",
       "      <th>112</th>\n",
       "      <td>602184535736918017</td>\n",
       "      <td>Sat May 23 18:49:16 +0000 2015</td>\n",
       "      <td>WA</td>\n",
       "      <td>*smokes joint* dude I swear the only thing to ...</td>\n",
       "      <td>11</td>\n",
       "      <td>2</td>\n",
       "      <td>high</td>\n",
       "      <td>low</td>\n",
       "      <td>high</td>\n",
       "      <td>low</td>\n",
       "      <td>[*, smokes, joint, *, dude, I, swear, the, onl...</td>\n",
       "    </tr>\n",
       "    <tr>\n",
       "      <th>126</th>\n",
       "      <td>614811102359072768</td>\n",
       "      <td>Sat Jun 27 15:02:44 +0000 2015</td>\n",
       "      <td>NaN</td>\n",
       "      <td>#MSGKickToDrugs bcz chewing tobacco and snuff ...</td>\n",
       "      <td>2</td>\n",
       "      <td>6</td>\n",
       "      <td>low</td>\n",
       "      <td>low</td>\n",
       "      <td>low</td>\n",
       "      <td>high</td>\n",
       "      <td>[#MSGKickToDrugs, bcz, chewing, tobacco, and, ...</td>\n",
       "    </tr>\n",
       "    <tr>\n",
       "      <th>129</th>\n",
       "      <td>284773487070031873</td>\n",
       "      <td>Fri Dec 28 21:31:04 +0000 2012</td>\n",
       "      <td>NaN</td>\n",
       "      <td>—Ayer fue mi cumpleaños. —Felhiciidaadezz AmiW...</td>\n",
       "      <td>1</td>\n",
       "      <td>1</td>\n",
       "      <td>low</td>\n",
       "      <td>low</td>\n",
       "      <td>low</td>\n",
       "      <td>low</td>\n",
       "      <td>[—, Ayer, fue, mi, cumpleaños, ., —, Felhiciid...</td>\n",
       "    </tr>\n",
       "  </tbody>\n",
       "</table>\n",
       "</div>"
      ],
      "text/plain": [
       "                  idstr                            date state  \\\n",
       "37   596485597335662593  Fri May 08 01:23:43 +0000 2015   NaN   \n",
       "38   338100487184318465  Sat May 25 01:13:32 +0000 2013    NY   \n",
       "112  602184535736918017  Sat May 23 18:49:16 +0000 2015    WA   \n",
       "126  614811102359072768  Sat Jun 27 15:02:44 +0000 2015   NaN   \n",
       "129  284773487070031873  Fri Dec 28 21:31:04 +0000 2012   NaN   \n",
       "\n",
       "                                                  text  favorite_count  \\\n",
       "37   Research found that marijuana does not damage ...               1   \n",
       "38   Chewing tobacco is a complete turnoff. Especia...               3   \n",
       "112  *smokes joint* dude I swear the only thing to ...              11   \n",
       "126  #MSGKickToDrugs bcz chewing tobacco and snuff ...               2   \n",
       "129  —Ayer fue mi cumpleaños. —Felhiciidaadezz AmiW...               1   \n",
       "\n",
       "     retweet_count favorite retweet statefavorite stateretweet  \\\n",
       "37               1      low     low           low          low   \n",
       "38               6      low     low        medium         high   \n",
       "112              2     high     low          high          low   \n",
       "126              6      low     low           low         high   \n",
       "129              1      low     low           low          low   \n",
       "\n",
       "                                        tokenized_text  \n",
       "37   [Research, found, that, marijuana, does, not, ...  \n",
       "38   [Chewing, tobacco, is, a, complete, turnoff, ....  \n",
       "112  [*, smokes, joint, *, dude, I, swear, the, onl...  \n",
       "126  [#MSGKickToDrugs, bcz, chewing, tobacco, and, ...  \n",
       "129  [—, Ayer, fue, mi, cumpleaños, ., —, Felhiciid...  "
      ]
     },
     "execution_count": 23,
     "metadata": {},
     "output_type": "execute_result"
    }
   ],
   "source": [
    "df1.head()"
   ]
  },
  {
   "cell_type": "code",
   "execution_count": 24,
   "metadata": {
    "collapsed": true
   },
   "outputs": [],
   "source": [
    "punctuation = re.compile(r'[-.?!,\":;()|0-9]')"
   ]
  },
  {
   "cell_type": "code",
   "execution_count": 25,
   "metadata": {
    "collapsed": true
   },
   "outputs": [],
   "source": [
    "word_list = (punctuation.sub(\"\", word).strip() for word in df1['text'])"
   ]
  },
  {
   "cell_type": "code",
   "execution_count": 26,
   "metadata": {
    "collapsed": true
   },
   "outputs": [],
   "source": [
    "word_list = (word for word in word_list if word not in ntlk.corpus.stopwords.words('english'))"
   ]
  },
  {
   "cell_type": "code",
   "execution_count": 30,
   "metadata": {
    "collapsed": true
   },
   "outputs": [],
   "source": [
    "wl1 = list(sum(word_list, []))"
   ]
  },
  {
   "cell_type": "code",
   "execution_count": 32,
   "metadata": {},
   "outputs": [
    {
     "name": "stdout",
     "output_type": "stream",
     "text": [
      "<generator object <genexpr> at 0x0000024E13C9A620>\n"
     ]
    }
   ],
   "source": [
    "print(word_list)"
   ]
  },
  {
   "cell_type": "code",
   "execution_count": 32,
   "metadata": {
    "collapsed": true
   },
   "outputs": [],
   "source": [
    "frequencies = collections.Counter(word_list)"
   ]
  },
  {
   "cell_type": "code",
   "execution_count": 33,
   "metadata": {},
   "outputs": [
    {
     "name": "stdout",
     "output_type": "stream",
     "text": [
      "Counter()\n"
     ]
    }
   ],
   "source": [
    "print (frequencies)"
   ]
  },
  {
   "cell_type": "code",
   "execution_count": 34,
   "metadata": {},
   "outputs": [
    {
     "name": "stdout",
     "output_type": "stream",
     "text": [
      "[]\n"
     ]
    }
   ],
   "source": [
    "print(frequencies.most_common(10))"
   ]
  },
  {
   "cell_type": "code",
   "execution_count": 35,
   "metadata": {},
   "outputs": [
    {
     "name": "stdout",
     "output_type": "stream",
     "text": [
      "<generator object <genexpr> at 0x000001DF7D9AE5C8>\n"
     ]
    }
   ],
   "source": [
    "print(word for word, frequency in frequencies.most_common(10))"
   ]
  },
  {
   "cell_type": "code",
   "execution_count": 37,
   "metadata": {
    "collapsed": true
   },
   "outputs": [],
   "source": [
    "words = df1['text'].apply(tt.tokenize)"
   ]
  },
  {
   "cell_type": "code",
   "execution_count": 38,
   "metadata": {
    "collapsed": true
   },
   "outputs": [
    {
     "name": "stdout",
     "output_type": "stream",
     "text": [
      "37        [Research, found, that, marijuana, does, not, ...\n",
      "38        [Chewing, tobacco, is, a, complete, turnoff, ....\n",
      "112       [*, smokes, joint, *, dude, I, swear, the, onl...\n",
      "126       [#MSGKickToDrugs, bcz, chewing, tobacco, and, ...\n",
      "129       [—, Ayer, fue, mi, cumpleaños, ., —, Felhiciid...\n",
      "203       [We, support, #TakeItRightOutside, campaign, ....\n",
      "249       [Cigarette, smoking, causes, 443,000, deaths, ...\n",
      "284       [@saskiarohe, yes, bc, we, all, know, smoking,...\n",
      "289       [*, eats, cigarette, *, its, a, metaphor, *, w...\n",
      "315       [#UCCShooting, \", some, people, who, smoke, we...\n",
      "361       [There, are, literally, more, kids, getting, h...\n",
      "365       [Alcohol-can, kill, u, ,, Tobacco-Can, kill, Y...\n",
      "375       [Damage, estimate, for, 321, Comm, Ave, is, $,...\n",
      "395          [Smokes, candy, cigarette, ., Gets, cancer, .]\n",
      "411       [#teenchoiceawards, last, night, :, @truthoran...\n",
      "514       [Same, As, #Kaththi, #Puli, Also, No, Showing,...\n",
      "566       [Auckland, University, is, wrong, -, cannabis,...\n",
      "616       [someone, get, me, 666, retweets, so, my, sist...\n",
      "770       [Tobacco, use, accounts, for, at, least, 30, %...\n",
      "785       [Obesity, —, Not, Aging, —, Balloons, Health, ...\n",
      "811       [The, most, important, thing, you, can, do, to...\n",
      "872       [teacher, :, no, vaping, inside, my, classroom...\n",
      "902       [Lung, cancer, =, $, 100K, ,, emphysema, =, $,...\n",
      "904       [#DidYouKnow, Tobacco, contains, Nicotine, (, ...\n",
      "977       [The, more, people, smoke, ,, the, higher, the...\n",
      "999       [\", @BlownMind_Facts, :, Tobacco, kills, nearl...\n",
      "1022      [Feku's, minister, says, I, smoking, ', doesn'...\n",
      "1066      [Don't, get, why, people, are, put, off, someo...\n",
      "1081      [A, new, public, health, campaign, is, highlig...\n",
      "1098      [@Ryan_ward12, @rachelgaarnerr, it's, sad, you...\n",
      "                                ...                        \n",
      "554330    [It's, #HealthyLungMonth, ., Quit, smoking, to...\n",
      "554342    [DO, ., NOT, ., SMOKE, ., Yellow, teeth, ., Gr...\n",
      "554393    [Tobacco, use, is, the, leading, cause, of, pr...\n",
      "554419    [#MSGKickToDrugs, bcz, chewing, tobacco, and, ...\n",
      "554435    [In, America, we, put, down, cig, smokers, for...\n",
      "554436    [Smokers, at, more, risk, of, #depression, &, ...\n",
      "554437    [Cardiovascular, risk, factors, include, obesi...\n",
      "554440    [Thank, God, I, quit, !, \", @TheKnowledge, :, ...\n",
      "554628    [\", @JhemVarron, :, If, smoking, is, dangerous...\n",
      "554653    [A5, :, Don, ’, t, gamble, w, /, secondhand, s...\n",
      "554701    [More, than, 400,000, Americans, die, from, di...\n",
      "554753    [“, Tobacco, kills, more, Americans, each, yea...\n",
      "554812    [Smoking, is, hazardous, to, your, health, ......\n",
      "554845    [Tobacco, kills, over, 5, million, people, eac...\n",
      "554885    [i, think, the, only, thing, that, could, effe...\n",
      "554901    [When, you're, going, up, against, tobacco, ,,...\n",
      "554933    [if, I, wanted, the, risk, of, dying, from, lu...\n",
      "554946    [President, on, climate, change, :, \", I, ’, m...\n",
      "555024    [Don't, settle, for, less, when, you, know, yo...\n",
      "555028    [If, you, let, people, smoke, cigs, in, your, ...\n",
      "555086    [The, damaged, love, the, damaged, ., True, fa...\n",
      "555125    [Obesity, will, replace, tobacco, as, #, 1, ca...\n",
      "555136    [Chewing, tobacco, is, injurious, to, health, ...\n",
      "555160    [A, Gursikh, is, better, off, dying, rather, t...\n",
      "555182    [With, smoking, being, a, potential, cause, of...\n",
      "555261    [Cigarette, #smoking, is, the, number, one, pr...\n",
      "555271    [@BrandonClarke__, @Tom_lawt, more, chance, of...\n",
      "555319    [When, video, games, get, problematic, so, do,...\n",
      "555379    [If, you, run, out, of, #eJuice, ,, the, coil,...\n",
      "555389    [\", @ConfusionMc, :, Apparently, cancer, patie...\n",
      "Name: text, Length: 15881, dtype: object\n"
     ]
    }
   ],
   "source": [
    "print(words)"
   ]
  },
  {
   "cell_type": "code",
   "execution_count": 42,
   "metadata": {
    "scrolled": true
   },
   "outputs": [
    {
     "ename": "TypeError",
     "evalue": "unhashable type: 'list'",
     "output_type": "error",
     "traceback": [
      "\u001b[1;31m---------------------------------------------------------------------------\u001b[0m",
      "\u001b[1;31mTypeError\u001b[0m                                 Traceback (most recent call last)",
      "\u001b[1;32m<ipython-input-42-95529977b9dd>\u001b[0m in \u001b[0;36m<module>\u001b[1;34m()\u001b[0m\n\u001b[1;32m----> 1\u001b[1;33m \u001b[0mfdist\u001b[0m \u001b[1;33m=\u001b[0m \u001b[0mFreqDist\u001b[0m\u001b[1;33m(\u001b[0m\u001b[0mwords\u001b[0m\u001b[1;33m)\u001b[0m\u001b[1;33m\u001b[0m\u001b[0m\n\u001b[0m",
      "\u001b[1;32mC:\\Users\\eltoukhysm\\AppData\\Local\\Continuum\\Anaconda3\\lib\\site-packages\\nltk\\probability.py\u001b[0m in \u001b[0;36m__init__\u001b[1;34m(self, samples)\u001b[0m\n\u001b[0;32m    106\u001b[0m         \u001b[1;33m:\u001b[0m\u001b[0mtype\u001b[0m \u001b[0msamples\u001b[0m\u001b[1;33m:\u001b[0m \u001b[0mSequence\u001b[0m\u001b[1;33m\u001b[0m\u001b[0m\n\u001b[0;32m    107\u001b[0m         \"\"\"\n\u001b[1;32m--> 108\u001b[1;33m         \u001b[0mCounter\u001b[0m\u001b[1;33m.\u001b[0m\u001b[0m__init__\u001b[0m\u001b[1;33m(\u001b[0m\u001b[0mself\u001b[0m\u001b[1;33m,\u001b[0m \u001b[0msamples\u001b[0m\u001b[1;33m)\u001b[0m\u001b[1;33m\u001b[0m\u001b[0m\n\u001b[0m\u001b[0;32m    109\u001b[0m \u001b[1;33m\u001b[0m\u001b[0m\n\u001b[0;32m    110\u001b[0m         \u001b[1;31m# Cached number of samples in this FreqDist\u001b[0m\u001b[1;33m\u001b[0m\u001b[1;33m\u001b[0m\u001b[0m\n",
      "\u001b[1;32mC:\\Users\\eltoukhysm\\AppData\\Local\\Continuum\\Anaconda3\\lib\\collections\\__init__.py\u001b[0m in \u001b[0;36m__init__\u001b[1;34m(*args, **kwds)\u001b[0m\n\u001b[0;32m    535\u001b[0m             \u001b[1;32mraise\u001b[0m \u001b[0mTypeError\u001b[0m\u001b[1;33m(\u001b[0m\u001b[1;34m'expected at most 1 arguments, got %d'\u001b[0m \u001b[1;33m%\u001b[0m \u001b[0mlen\u001b[0m\u001b[1;33m(\u001b[0m\u001b[0margs\u001b[0m\u001b[1;33m)\u001b[0m\u001b[1;33m)\u001b[0m\u001b[1;33m\u001b[0m\u001b[0m\n\u001b[0;32m    536\u001b[0m         \u001b[0msuper\u001b[0m\u001b[1;33m(\u001b[0m\u001b[0mCounter\u001b[0m\u001b[1;33m,\u001b[0m \u001b[0mself\u001b[0m\u001b[1;33m)\u001b[0m\u001b[1;33m.\u001b[0m\u001b[0m__init__\u001b[0m\u001b[1;33m(\u001b[0m\u001b[1;33m)\u001b[0m\u001b[1;33m\u001b[0m\u001b[0m\n\u001b[1;32m--> 537\u001b[1;33m         \u001b[0mself\u001b[0m\u001b[1;33m.\u001b[0m\u001b[0mupdate\u001b[0m\u001b[1;33m(\u001b[0m\u001b[1;33m*\u001b[0m\u001b[0margs\u001b[0m\u001b[1;33m,\u001b[0m \u001b[1;33m**\u001b[0m\u001b[0mkwds\u001b[0m\u001b[1;33m)\u001b[0m\u001b[1;33m\u001b[0m\u001b[0m\n\u001b[0m\u001b[0;32m    538\u001b[0m \u001b[1;33m\u001b[0m\u001b[0m\n\u001b[0;32m    539\u001b[0m     \u001b[1;32mdef\u001b[0m \u001b[0m__missing__\u001b[0m\u001b[1;33m(\u001b[0m\u001b[0mself\u001b[0m\u001b[1;33m,\u001b[0m \u001b[0mkey\u001b[0m\u001b[1;33m)\u001b[0m\u001b[1;33m:\u001b[0m\u001b[1;33m\u001b[0m\u001b[0m\n",
      "\u001b[1;32mC:\\Users\\eltoukhysm\\AppData\\Local\\Continuum\\Anaconda3\\lib\\site-packages\\nltk\\probability.py\u001b[0m in \u001b[0;36mupdate\u001b[1;34m(self, *args, **kwargs)\u001b[0m\n\u001b[0;32m    144\u001b[0m         \"\"\"\n\u001b[0;32m    145\u001b[0m         \u001b[0mself\u001b[0m\u001b[1;33m.\u001b[0m\u001b[0m_N\u001b[0m \u001b[1;33m=\u001b[0m \u001b[1;32mNone\u001b[0m\u001b[1;33m\u001b[0m\u001b[0m\n\u001b[1;32m--> 146\u001b[1;33m         \u001b[0msuper\u001b[0m\u001b[1;33m(\u001b[0m\u001b[0mFreqDist\u001b[0m\u001b[1;33m,\u001b[0m \u001b[0mself\u001b[0m\u001b[1;33m)\u001b[0m\u001b[1;33m.\u001b[0m\u001b[0mupdate\u001b[0m\u001b[1;33m(\u001b[0m\u001b[1;33m*\u001b[0m\u001b[0margs\u001b[0m\u001b[1;33m,\u001b[0m \u001b[1;33m**\u001b[0m\u001b[0mkwargs\u001b[0m\u001b[1;33m)\u001b[0m\u001b[1;33m\u001b[0m\u001b[0m\n\u001b[0m\u001b[0;32m    147\u001b[0m \u001b[1;33m\u001b[0m\u001b[0m\n\u001b[0;32m    148\u001b[0m     \u001b[1;32mdef\u001b[0m \u001b[0msetdefault\u001b[0m\u001b[1;33m(\u001b[0m\u001b[0mself\u001b[0m\u001b[1;33m,\u001b[0m \u001b[0mkey\u001b[0m\u001b[1;33m,\u001b[0m \u001b[0mval\u001b[0m\u001b[1;33m)\u001b[0m\u001b[1;33m:\u001b[0m\u001b[1;33m\u001b[0m\u001b[0m\n",
      "\u001b[1;32mC:\\Users\\eltoukhysm\\AppData\\Local\\Continuum\\Anaconda3\\lib\\collections\\__init__.py\u001b[0m in \u001b[0;36mupdate\u001b[1;34m(*args, **kwds)\u001b[0m\n\u001b[0;32m    622\u001b[0m                     \u001b[0msuper\u001b[0m\u001b[1;33m(\u001b[0m\u001b[0mCounter\u001b[0m\u001b[1;33m,\u001b[0m \u001b[0mself\u001b[0m\u001b[1;33m)\u001b[0m\u001b[1;33m.\u001b[0m\u001b[0mupdate\u001b[0m\u001b[1;33m(\u001b[0m\u001b[0miterable\u001b[0m\u001b[1;33m)\u001b[0m \u001b[1;31m# fast path when counter is empty\u001b[0m\u001b[1;33m\u001b[0m\u001b[0m\n\u001b[0;32m    623\u001b[0m             \u001b[1;32melse\u001b[0m\u001b[1;33m:\u001b[0m\u001b[1;33m\u001b[0m\u001b[0m\n\u001b[1;32m--> 624\u001b[1;33m                 \u001b[0m_count_elements\u001b[0m\u001b[1;33m(\u001b[0m\u001b[0mself\u001b[0m\u001b[1;33m,\u001b[0m \u001b[0miterable\u001b[0m\u001b[1;33m)\u001b[0m\u001b[1;33m\u001b[0m\u001b[0m\n\u001b[0m\u001b[0;32m    625\u001b[0m         \u001b[1;32mif\u001b[0m \u001b[0mkwds\u001b[0m\u001b[1;33m:\u001b[0m\u001b[1;33m\u001b[0m\u001b[0m\n\u001b[0;32m    626\u001b[0m             \u001b[0mself\u001b[0m\u001b[1;33m.\u001b[0m\u001b[0mupdate\u001b[0m\u001b[1;33m(\u001b[0m\u001b[0mkwds\u001b[0m\u001b[1;33m)\u001b[0m\u001b[1;33m\u001b[0m\u001b[0m\n",
      "\u001b[1;31mTypeError\u001b[0m: unhashable type: 'list'"
     ]
    }
   ],
   "source": [
    "fdist = FreqDist(words)"
   ]
  },
  {
   "cell_type": "code",
   "execution_count": 41,
   "metadata": {},
   "outputs": [
    {
     "name": "stdout",
     "output_type": "stream",
     "text": [
      "<FreqDist with 0 samples and 0 outcomes>\n"
     ]
    }
   ],
   "source": [
    "print(fdist)"
   ]
  },
  {
   "cell_type": "code",
   "execution_count": 43,
   "metadata": {
    "collapsed": true
   },
   "outputs": [],
   "source": [
    "emotions =['happy','excited','relaxed','angry','anxious','frustrated','nervous','sad','stressed']"
   ]
  },
  {
   "cell_type": "code",
   "execution_count": 44,
   "metadata": {
    "collapsed": true
   },
   "outputs": [],
   "source": [
    "withdraw=['irritable','sleepy','sleeplessness','dizzy','cough','tight','constipation','sores']"
   ]
  },
  {
   "cell_type": "code",
   "execution_count": 45,
   "metadata": {
    "collapsed": true
   },
   "outputs": [],
   "source": [
    "status =['slip','crave']"
   ]
  },
  {
   "cell_type": "code",
   "execution_count": 52,
   "metadata": {
    "collapsed": true
   },
   "outputs": [],
   "source": [
    "el=[]\n",
    "for word in df1['tokenized_text']:\n",
    "    if word in emotions:\n",
    "        el.append"
   ]
  },
  {
   "cell_type": "code",
   "execution_count": 53,
   "metadata": {},
   "outputs": [
    {
     "name": "stdout",
     "output_type": "stream",
     "text": [
      "[]\n"
     ]
    }
   ],
   "source": [
    "print(el)"
   ]
  },
  {
   "cell_type": "code",
   "execution_count": 54,
   "metadata": {
    "collapsed": true
   },
   "outputs": [],
   "source": [
    "wl=[]\n",
    "for word in df1['tokenized_text']:\n",
    "    if word in withdraw:\n",
    "        wl.append"
   ]
  },
  {
   "cell_type": "code",
   "execution_count": 55,
   "metadata": {},
   "outputs": [
    {
     "name": "stdout",
     "output_type": "stream",
     "text": [
      "[]\n"
     ]
    }
   ],
   "source": [
    "print(wl)"
   ]
  },
  {
   "cell_type": "code",
   "execution_count": 56,
   "metadata": {
    "collapsed": true
   },
   "outputs": [],
   "source": [
    "sl=[]\n",
    "for word in df1['tokenized_text']:\n",
    "    if word in status:\n",
    "        sl.append"
   ]
  },
  {
   "cell_type": "code",
   "execution_count": 57,
   "metadata": {},
   "outputs": [
    {
     "name": "stdout",
     "output_type": "stream",
     "text": [
      "[]\n"
     ]
    }
   ],
   "source": [
    "print(sl)"
   ]
  },
  {
   "cell_type": "code",
   "execution_count": null,
   "metadata": {
    "collapsed": true
   },
   "outputs": [],
   "source": []
  }
 ],
 "metadata": {
  "kernelspec": {
   "display_name": "Python 3",
   "language": "python",
   "name": "python3"
  },
  "language_info": {
   "codemirror_mode": {
    "name": "ipython",
    "version": 3
   },
   "file_extension": ".py",
   "mimetype": "text/x-python",
   "name": "python",
   "nbconvert_exporter": "python",
   "pygments_lexer": "ipython3",
   "version": "3.6.1"
  }
 },
 "nbformat": 4,
 "nbformat_minor": 2
}
